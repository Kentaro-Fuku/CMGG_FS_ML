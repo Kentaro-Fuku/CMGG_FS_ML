{
 "cells": [
  {
   "cell_type": "code",
   "execution_count": 2,
   "metadata": {},
   "outputs": [
    {
     "name": "stdout",
     "output_type": "stream",
     "text": [
      "Collecting scipy\n",
      "  Downloading scipy-1.13.1-cp39-cp39-macosx_12_0_arm64.whl (30.3 MB)\n",
      "\u001b[2K     \u001b[90m━━━━━━━━━━━━━━━━━━━━━━━━━━━━━━━━━━━━━━━━\u001b[0m \u001b[32m30.3/30.3 MB\u001b[0m \u001b[31m24.3 MB/s\u001b[0m eta \u001b[36m0:00:00\u001b[0m00:01\u001b[0m00:01\u001b[0m\n",
      "\u001b[?25hRequirement already satisfied: numpy<2.3,>=1.22.4 in /Users/k.fuku/.pyenv/versions/3.9.19/envs/test/lib/python3.9/site-packages (from scipy) (1.26.4)\n",
      "Installing collected packages: scipy\n",
      "Successfully installed scipy-1.13.1\n",
      "\n",
      "\u001b[1m[\u001b[0m\u001b[34;49mnotice\u001b[0m\u001b[1;39;49m]\u001b[0m\u001b[39;49m A new release of pip is available: \u001b[0m\u001b[31;49m23.0.1\u001b[0m\u001b[39;49m -> \u001b[0m\u001b[32;49m24.0\u001b[0m\n",
      "\u001b[1m[\u001b[0m\u001b[34;49mnotice\u001b[0m\u001b[1;39;49m]\u001b[0m\u001b[39;49m To update, run: \u001b[0m\u001b[32;49mpip install --upgrade pip\u001b[0m\n"
     ]
    }
   ],
   "source": [
    "!pip3 install scipy"
   ]
  },
  {
   "cell_type": "code",
   "execution_count": 3,
   "metadata": {},
   "outputs": [],
   "source": [
    "import os\n",
    "import numpy as np\n",
    "import pandas as pd\n",
    "import math\n",
    "import matplotlib.pyplot as plt\n",
    "from scipy.interpolate import CubicSpline\n",
    "from scipy.ndimage import gaussian_filter1d"
   ]
  },
  {
   "cell_type": "code",
   "execution_count": 4,
   "metadata": {},
   "outputs": [],
   "source": [
    "TDOS_list = sorted(os.listdir(\"./TDOS/\"))\n",
    "# TDOS_list"
   ]
  },
  {
   "cell_type": "code",
   "execution_count": 5,
   "metadata": {},
   "outputs": [],
   "source": [
    "composition = np.arange(1, 100, 1)\n",
    "# composition"
   ]
  },
  {
   "cell_type": "code",
   "execution_count": 6,
   "metadata": {},
   "outputs": [],
   "source": [
    "def DOS_ip(filepath, sigma=0.1, ip_range=(-4, 6, 0.05)):\n",
    "    df = pd.read_csv(filepath, header=None, skiprows=2, names=[\"energy\", \"TDOS_up\", \"TDOS_down\"])\n",
    "    # ガウシアンフィルタを適用してスムージングする\n",
    "    df[\"TDOS_up_s\"] = gaussian_filter1d(df[\"TDOS_up\"], sigma=sigma)\n",
    "    df[\"TDOS_down_s\"] = gaussian_filter1d(df[\"TDOS_down\"], sigma=sigma)\n",
    "    cs_up = CubicSpline(df[\"energy\"], df[\"TDOS_up_s\"])\n",
    "    cs_down = CubicSpline(df[\"energy\"], df[\"TDOS_down_s\"])\n",
    "    x_ip = np.arange(ip_range[0],ip_range[1],ip_range[2])\n",
    "    up_ip = cs_up(x_ip)\n",
    "    down_ip = cs_down(x_ip)\n",
    "    df_ip = pd.DataFrame({\"energy_ip\":x_ip, \"TDOS_up_ip\":up_ip, \"TDOS_down_ip\":down_ip})\n",
    "\n",
    "    return df, df_ip"
   ]
  },
  {
   "cell_type": "code",
   "execution_count": 7,
   "metadata": {},
   "outputs": [],
   "source": [
    "df, df_ip = DOS_ip(f\"./TDOS/{TDOS_list[0]}\", sigma=1)"
   ]
  },
  {
   "cell_type": "code",
   "execution_count": 9,
   "metadata": {},
   "outputs": [
    {
     "data": {
      "text/html": [
       "<div>\n",
       "<style scoped>\n",
       "    .dataframe tbody tr th:only-of-type {\n",
       "        vertical-align: middle;\n",
       "    }\n",
       "\n",
       "    .dataframe tbody tr th {\n",
       "        vertical-align: top;\n",
       "    }\n",
       "\n",
       "    .dataframe thead th {\n",
       "        text-align: right;\n",
       "    }\n",
       "</style>\n",
       "<table border=\"1\" class=\"dataframe\">\n",
       "  <thead>\n",
       "    <tr style=\"text-align: right;\">\n",
       "      <th></th>\n",
       "      <th>energy</th>\n",
       "      <th>TDOS_up</th>\n",
       "      <th>TDOS_down</th>\n",
       "      <th>TDOS_up_s</th>\n",
       "      <th>TDOS_down_s</th>\n",
       "    </tr>\n",
       "  </thead>\n",
       "  <tbody>\n",
       "    <tr>\n",
       "      <th>0</th>\n",
       "      <td>-6.30166</td>\n",
       "      <td>1.59600</td>\n",
       "      <td>-0.5921</td>\n",
       "      <td>1.563040</td>\n",
       "      <td>-0.605998</td>\n",
       "    </tr>\n",
       "    <tr>\n",
       "      <th>1</th>\n",
       "      <td>-6.27766</td>\n",
       "      <td>1.52500</td>\n",
       "      <td>-0.6293</td>\n",
       "      <td>1.508468</td>\n",
       "      <td>-0.622013</td>\n",
       "    </tr>\n",
       "    <tr>\n",
       "      <th>2</th>\n",
       "      <td>-6.25466</td>\n",
       "      <td>1.41100</td>\n",
       "      <td>-0.6359</td>\n",
       "      <td>1.433654</td>\n",
       "      <td>-0.643212</td>\n",
       "    </tr>\n",
       "    <tr>\n",
       "      <th>3</th>\n",
       "      <td>-6.23166</td>\n",
       "      <td>1.35300</td>\n",
       "      <td>-0.6604</td>\n",
       "      <td>1.386553</td>\n",
       "      <td>-0.676264</td>\n",
       "    </tr>\n",
       "    <tr>\n",
       "      <th>4</th>\n",
       "      <td>-6.20766</td>\n",
       "      <td>1.38000</td>\n",
       "      <td>-0.7249</td>\n",
       "      <td>1.377974</td>\n",
       "      <td>-0.729028</td>\n",
       "    </tr>\n",
       "    <tr>\n",
       "      <th>...</th>\n",
       "      <td>...</td>\n",
       "      <td>...</td>\n",
       "      <td>...</td>\n",
       "      <td>...</td>\n",
       "      <td>...</td>\n",
       "    </tr>\n",
       "    <tr>\n",
       "      <th>595</th>\n",
       "      <td>7.58234</td>\n",
       "      <td>0.12510</td>\n",
       "      <td>-0.2268</td>\n",
       "      <td>0.111306</td>\n",
       "      <td>-0.255017</td>\n",
       "    </tr>\n",
       "    <tr>\n",
       "      <th>596</th>\n",
       "      <td>7.60534</td>\n",
       "      <td>0.10280</td>\n",
       "      <td>-0.2215</td>\n",
       "      <td>0.096444</td>\n",
       "      <td>-0.236748</td>\n",
       "    </tr>\n",
       "    <tr>\n",
       "      <th>597</th>\n",
       "      <td>7.62834</td>\n",
       "      <td>0.06800</td>\n",
       "      <td>-0.2511</td>\n",
       "      <td>0.069286</td>\n",
       "      <td>-0.242000</td>\n",
       "    </tr>\n",
       "    <tr>\n",
       "      <th>598</th>\n",
       "      <td>7.65234</td>\n",
       "      <td>0.03738</td>\n",
       "      <td>-0.2560</td>\n",
       "      <td>0.042503</td>\n",
       "      <td>-0.241048</td>\n",
       "    </tr>\n",
       "    <tr>\n",
       "      <th>599</th>\n",
       "      <td>7.67534</td>\n",
       "      <td>0.01636</td>\n",
       "      <td>-0.2162</td>\n",
       "      <td>0.026007</td>\n",
       "      <td>-0.230044</td>\n",
       "    </tr>\n",
       "  </tbody>\n",
       "</table>\n",
       "<p>600 rows × 5 columns</p>\n",
       "</div>"
      ],
      "text/plain": [
       "      energy  TDOS_up  TDOS_down  TDOS_up_s  TDOS_down_s\n",
       "0   -6.30166  1.59600    -0.5921   1.563040    -0.605998\n",
       "1   -6.27766  1.52500    -0.6293   1.508468    -0.622013\n",
       "2   -6.25466  1.41100    -0.6359   1.433654    -0.643212\n",
       "3   -6.23166  1.35300    -0.6604   1.386553    -0.676264\n",
       "4   -6.20766  1.38000    -0.7249   1.377974    -0.729028\n",
       "..       ...      ...        ...        ...          ...\n",
       "595  7.58234  0.12510    -0.2268   0.111306    -0.255017\n",
       "596  7.60534  0.10280    -0.2215   0.096444    -0.236748\n",
       "597  7.62834  0.06800    -0.2511   0.069286    -0.242000\n",
       "598  7.65234  0.03738    -0.2560   0.042503    -0.241048\n",
       "599  7.67534  0.01636    -0.2162   0.026007    -0.230044\n",
       "\n",
       "[600 rows x 5 columns]"
      ]
     },
     "execution_count": 9,
     "metadata": {},
     "output_type": "execute_result"
    }
   ],
   "source": [
    "df"
   ]
  },
  {
   "cell_type": "code",
   "execution_count": 10,
   "metadata": {},
   "outputs": [
    {
     "data": {
      "text/html": [
       "<div>\n",
       "<style scoped>\n",
       "    .dataframe tbody tr th:only-of-type {\n",
       "        vertical-align: middle;\n",
       "    }\n",
       "\n",
       "    .dataframe tbody tr th {\n",
       "        vertical-align: top;\n",
       "    }\n",
       "\n",
       "    .dataframe thead th {\n",
       "        text-align: right;\n",
       "    }\n",
       "</style>\n",
       "<table border=\"1\" class=\"dataframe\">\n",
       "  <thead>\n",
       "    <tr style=\"text-align: right;\">\n",
       "      <th></th>\n",
       "      <th>energy_ip</th>\n",
       "      <th>TDOS_up_ip</th>\n",
       "      <th>TDOS_down_ip</th>\n",
       "    </tr>\n",
       "  </thead>\n",
       "  <tbody>\n",
       "    <tr>\n",
       "      <th>0</th>\n",
       "      <td>-4.00</td>\n",
       "      <td>1.027671</td>\n",
       "      <td>-1.013413</td>\n",
       "    </tr>\n",
       "    <tr>\n",
       "      <th>1</th>\n",
       "      <td>-3.95</td>\n",
       "      <td>0.848605</td>\n",
       "      <td>-1.249281</td>\n",
       "    </tr>\n",
       "    <tr>\n",
       "      <th>2</th>\n",
       "      <td>-3.90</td>\n",
       "      <td>0.768078</td>\n",
       "      <td>-1.637319</td>\n",
       "    </tr>\n",
       "    <tr>\n",
       "      <th>3</th>\n",
       "      <td>-3.85</td>\n",
       "      <td>0.760068</td>\n",
       "      <td>-2.303169</td>\n",
       "    </tr>\n",
       "    <tr>\n",
       "      <th>4</th>\n",
       "      <td>-3.80</td>\n",
       "      <td>1.002007</td>\n",
       "      <td>-2.968627</td>\n",
       "    </tr>\n",
       "    <tr>\n",
       "      <th>...</th>\n",
       "      <td>...</td>\n",
       "      <td>...</td>\n",
       "      <td>...</td>\n",
       "    </tr>\n",
       "    <tr>\n",
       "      <th>195</th>\n",
       "      <td>5.75</td>\n",
       "      <td>0.883057</td>\n",
       "      <td>-0.224921</td>\n",
       "    </tr>\n",
       "    <tr>\n",
       "      <th>196</th>\n",
       "      <td>5.80</td>\n",
       "      <td>0.849116</td>\n",
       "      <td>-0.258464</td>\n",
       "    </tr>\n",
       "    <tr>\n",
       "      <th>197</th>\n",
       "      <td>5.85</td>\n",
       "      <td>0.574335</td>\n",
       "      <td>-0.219771</td>\n",
       "    </tr>\n",
       "    <tr>\n",
       "      <th>198</th>\n",
       "      <td>5.90</td>\n",
       "      <td>0.395764</td>\n",
       "      <td>-0.336900</td>\n",
       "    </tr>\n",
       "    <tr>\n",
       "      <th>199</th>\n",
       "      <td>5.95</td>\n",
       "      <td>0.324676</td>\n",
       "      <td>-0.743185</td>\n",
       "    </tr>\n",
       "  </tbody>\n",
       "</table>\n",
       "<p>200 rows × 3 columns</p>\n",
       "</div>"
      ],
      "text/plain": [
       "     energy_ip  TDOS_up_ip  TDOS_down_ip\n",
       "0        -4.00    1.027671     -1.013413\n",
       "1        -3.95    0.848605     -1.249281\n",
       "2        -3.90    0.768078     -1.637319\n",
       "3        -3.85    0.760068     -2.303169\n",
       "4        -3.80    1.002007     -2.968627\n",
       "..         ...         ...           ...\n",
       "195       5.75    0.883057     -0.224921\n",
       "196       5.80    0.849116     -0.258464\n",
       "197       5.85    0.574335     -0.219771\n",
       "198       5.90    0.395764     -0.336900\n",
       "199       5.95    0.324676     -0.743185\n",
       "\n",
       "[200 rows x 3 columns]"
      ]
     },
     "execution_count": 10,
     "metadata": {},
     "output_type": "execute_result"
    }
   ],
   "source": [
    "df_ip"
   ]
  },
  {
   "cell_type": "code",
   "execution_count": 8,
   "metadata": {},
   "outputs": [
    {
     "data": {
      "image/png": "[encoded data removed]",
      "text/plain": [
       "<Figure size 640x480 with 1 Axes>"
      ]
     },
     "metadata": {},
     "output_type": "display_data"
    }
   ],
   "source": [
    "plt.plot(df[\"energy\"], df[\"TDOS_up\"], marker='o', linestyle=\"None\", label='Data points', markersize=3)  # サンプルデータをプロット\n",
    "plt.plot(df_ip[\"energy_ip\"], df_ip[\"TDOS_up_ip\"], marker='^', linestyle=\"-\", markersize=3, label='Smoothed Data points')\n",
    "plt.xlim(-1, 1)\n",
    "plt.legend()\n",
    "plt.show()"
   ]
  },
  {
   "cell_type": "code",
   "execution_count": 24,
   "metadata": {},
   "outputs": [],
   "source": [
    "def calc_spin_pol(df_ip):\n",
    "    selected_values = df_ip.loc[round(df_ip[\"energy_ip\"], 2) == 0, [\"TDOS_up_ip\", \"TDOS_down_ip\"]]\n",
    "    sp_pol = (selected_values.values[0][0]+selected_values.values[0][1])/(selected_values.values[0][0]-selected_values.values[0][1])\n",
    "    return sp_pol"
   ]
  },
  {
   "cell_type": "code",
   "execution_count": 31,
   "metadata": {},
   "outputs": [],
   "source": [
    "sp_pol_list=[]\n",
    "for DOSfile in TDOS_list:\n",
    "    df, df_ip = DOS_ip(f\"./TDOS/{DOSfile}\", sigma=1)\n",
    "    # print(DOSfile)\n",
    "    sp_pol_list.append(calc_spin_pol(df_ip))\n",
    "# sp_pol_list"
   ]
  },
  {
   "cell_type": "code",
   "execution_count": 32,
   "metadata": {},
   "outputs": [
    {
     "data": {
      "text/plain": [
       "[<matplotlib.lines.Line2D at 0x188e54250>]"
      ]
     },
     "execution_count": 32,
     "metadata": {},
     "output_type": "execute_result"
    },
    {
     "data": {
      "image/png": "[encoded data removed]",
      "text/plain": [
       "<Figure size 640x480 with 1 Axes>"
      ]
     },
     "metadata": {},
     "output_type": "display_data"
    }
   ],
   "source": [
    "plt.plot(composition, sp_pol_list)"
   ]
  },
  {
   "cell_type": "code",
   "execution_count": 89,
   "metadata": {},
   "outputs": [],
   "source": [
    "df_csv = pd.DataFrame(np.array([composition, sp_pol_list]).T, columns=[\"Ga_composition\", \"spin_polalization\"])\n",
    "df_csv.to_csv(\"spin_polalization.csv\", index=None)"
   ]
  },
  {
   "cell_type": "code",
   "execution_count": null,
   "metadata": {},
   "outputs": [],
   "source": []
  }
 ],
 "metadata": {
  "kernelspec": {
   "display_name": "lab_python",
   "language": "python",
   "name": "python3"
  },
  "language_info": {
   "codemirror_mode": {
    "name": "ipython",
    "version": 3
   },
   "file_extension": ".py",
   "mimetype": "text/x-python",
   "name": "python",
   "nbconvert_exporter": "python",
   "pygments_lexer": "ipython3",
   "version": "3.9.19"
  }
 },
 "nbformat": 4,
 "nbformat_minor": 2
}
