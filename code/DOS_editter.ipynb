{
 "cells": [
  {
   "cell_type": "code",
   "execution_count": 8,
   "metadata": {},
   "outputs": [],
   "source": [
    "# Calc. Spinpolalization from smoothing and interpolated DOS"
   ]
  },
  {
   "cell_type": "code",
   "execution_count": 5,
   "metadata": {},
   "outputs": [],
   "source": [
    "import os\n",
    "import numpy as np\n",
    "import pandas as pd\n",
    "import math\n",
    "import matplotlib.pyplot as plt\n",
    "from scipy.interpolate import CubicSpline\n",
    "from scipy.ndimage import gaussian_filter1d"
   ]
  },
  {
   "cell_type": "code",
   "execution_count": 7,
   "metadata": {},
   "outputs": [],
   "source": [
    "TDOS_list = sorted(os.listdir(\"../data/TDOS/\"))\n",
    "# TDOS_list"
   ]
  },
  {
   "cell_type": "code",
   "execution_count": 5,
   "metadata": {},
   "outputs": [],
   "source": [
    "composition = np.arange(1, 100, 1)\n",
    "# composition"
   ]
  },
  {
   "cell_type": "code",
   "execution_count": 6,
   "metadata": {},
   "outputs": [],
   "source": [
    "def DOS_ip(filepath, sigma=0.1, ip_range=(-4, 6, 0.05)):\n",
    "    df = pd.read_csv(filepath, header=None, skiprows=2, names=[\"energy\", \"TDOS_up\", \"TDOS_down\"])\n",
    "    # ガウシアンフィルタを適用してスムージングする\n",
    "    df[\"TDOS_up_s\"] = gaussian_filter1d(df[\"TDOS_up\"], sigma=sigma)\n",
    "    df[\"TDOS_down_s\"] = gaussian_filter1d(df[\"TDOS_down\"], sigma=sigma)\n",
    "    cs_up = CubicSpline(df[\"energy\"], df[\"TDOS_up_s\"])\n",
    "    cs_down = CubicSpline(df[\"energy\"], df[\"TDOS_down_s\"])\n",
    "    x_ip = np.arange(ip_range[0],ip_range[1],ip_range[2])\n",
    "    up_ip = cs_up(x_ip)\n",
    "    down_ip = cs_down(x_ip)\n",
    "    df_ip = pd.DataFrame({\"energy_ip\":x_ip, \"TDOS_up_ip\":up_ip, \"TDOS_down_ip\":down_ip})\n",
    "\n",
    "    return df, df_ip"
   ]
  },
  {
   "cell_type": "code",
   "execution_count": 7,
   "metadata": {},
   "outputs": [],
   "source": [
    "df, df_ip = DOS_ip(f\"./TDOS/{TDOS_list[0]}\", sigma=1)"
   ]
  },
  {
   "cell_type": "code",
   "execution_count": null,
   "metadata": {},
   "outputs": [],
   "source": [
    "plt.plot(df[\"energy\"], df[\"TDOS_up\"], marker='o', linestyle=\"None\", label='Data points', markersize=3)  # サンプルデータをプロット\n",
    "plt.plot(df_ip[\"energy_ip\"], df_ip[\"TDOS_up_ip\"], marker='^', linestyle=\"-\", markersize=3, label='Smoothed Data points')\n",
    "plt.xlim(-1, 1)\n",
    "plt.legend()\n",
    "plt.show()"
   ]
  },
  {
   "cell_type": "code",
   "execution_count": 24,
   "metadata": {},
   "outputs": [],
   "source": [
    "def calc_spin_pol(df_ip):\n",
    "    selected_values = df_ip.loc[round(df_ip[\"energy_ip\"], 2) == 0, [\"TDOS_up_ip\", \"TDOS_down_ip\"]]\n",
    "    sp_pol = (selected_values.values[0][0]+selected_values.values[0][1])/(selected_values.values[0][0]-selected_values.values[0][1])\n",
    "    return sp_pol"
   ]
  },
  {
   "cell_type": "code",
   "execution_count": 31,
   "metadata": {},
   "outputs": [],
   "source": [
    "sp_pol_list=[]\n",
    "for DOSfile in TDOS_list:\n",
    "    df, df_ip = DOS_ip(f\"./TDOS/{DOSfile}\", sigma=1)\n",
    "    # print(DOSfile)\n",
    "    sp_pol_list.append(calc_spin_pol(df_ip))\n",
    "# sp_pol_list"
   ]
  },
  {
   "cell_type": "code",
   "execution_count": null,
   "metadata": {},
   "outputs": [],
   "source": [
    "plt.plot(composition, sp_pol_list)"
   ]
  },
  {
   "cell_type": "code",
   "execution_count": 89,
   "metadata": {},
   "outputs": [],
   "source": [
    "df_csv = pd.DataFrame(np.array([composition, sp_pol_list]).T, columns=[\"composition\", \"spin_polarization\"])\n",
    "df_csv.to_csv(\"spin_polarization.csv\", index=None)"
   ]
  },
  {
   "cell_type": "code",
   "execution_count": null,
   "metadata": {},
   "outputs": [],
   "source": []
  }
 ],
 "metadata": {
  "kernelspec": {
   "display_name": ".venv",
   "language": "python",
   "name": "python3"
  },
  "language_info": {
   "codemirror_mode": {
    "name": "ipython",
    "version": 3
   },
   "file_extension": ".py",
   "mimetype": "text/x-python",
   "name": "python",
   "nbconvert_exporter": "python",
   "pygments_lexer": "ipython3",
   "version": "3.12.7"
  }
 },
 "nbformat": 4,
 "nbformat_minor": 2
}
